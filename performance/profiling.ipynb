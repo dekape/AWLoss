{
 "cells": [
  {
   "cell_type": "code",
   "execution_count": 1,
   "metadata": {},
   "outputs": [],
   "source": [
    "import sys \n",
    "sys.path.append('../')\n",
    "import cProfile\n",
    "from losses import *\n",
    "from utils import set_device, set_seed\n",
    "from pstats import Stats, SortKey\n",
    "import torch\n",
    "import torch.nn as nn"
   ]
  },
  {
   "cell_type": "code",
   "execution_count": 2,
   "metadata": {},
   "outputs": [
    {
     "name": "stdout",
     "output_type": "stream",
     "text": [
      "No GPU available! Running on CPU\n"
     ]
    }
   ],
   "source": [
    "# Set seed and device                     \n",
    "device=set_device(\"cuda\", 0)\n",
    "set_seed(42)\n",
    "\n",
    "# Data for profiling\n",
    "X = torch.randn([32, 3, 27, 27]).to(device)\n",
    "target = torch.randn_like(X).to(device)"
   ]
  },
  {
   "cell_type": "code",
   "execution_count": 3,
   "metadata": {},
   "outputs": [
    {
     "name": "stdout",
     "output_type": "stream",
     "text": [
      "         17 function calls in 0.001 seconds\n",
      "\n",
      "   Ordered by: standard name\n",
      "\n",
      "   ncalls  tottime  percall  cumtime  percall filename:lineno(function)\n",
      "        1    0.000    0.000    0.001    0.001 <string>:1(<module>)\n",
      "        1    0.000    0.000    0.000    0.000 _VF.py:25(__getattr__)\n",
      "        1    0.000    0.000    0.000    0.000 _reduction.py:7(get_enum)\n",
      "        1    0.000    0.000    0.001    0.001 functional.py:3062(mse_loss)\n",
      "        1    0.000    0.000    0.000    0.000 functional.py:45(broadcast_tensors)\n",
      "        1    0.000    0.000    0.001    0.001 loss.py:527(forward)\n",
      "        1    0.000    0.000    0.001    0.001 module.py:1045(_call_impl)\n",
      "        1    0.000    0.000    0.000    0.000 {built-in method broadcast_tensors}\n",
      "        1    0.000    0.000    0.001    0.001 {built-in method builtins.exec}\n",
      "        1    0.000    0.000    0.000    0.000 {built-in method builtins.getattr}\n",
      "        1    0.000    0.000    0.000    0.000 {built-in method torch._C._get_tracing_state}\n",
      "        1    0.000    0.000    0.000    0.000 {built-in method torch._C._has_torch_function_variadic}\n",
      "        1    0.000    0.000    0.000    0.000 {built-in method torch._C._has_torch_function}\n",
      "        1    0.001    0.001    0.001    0.001 {built-in method torch._C._nn.mse_loss}\n",
      "        1    0.000    0.000    0.000    0.000 {method 'disable' of '_lsprof.Profiler' objects}\n",
      "        2    0.000    0.000    0.000    0.000 {method 'size' of 'torch._C._TensorBase' objects}\n",
      "\n",
      "\n"
     ]
    }
   ],
   "source": [
    "loss = nn.MSELoss(reduction=\"sum\")\n",
    "cProfile.run(\"loss(X, target)\")"
   ]
  },
  {
   "cell_type": "code",
   "execution_count": 6,
   "metadata": {},
   "outputs": [
    {
     "name": "stdout",
     "output_type": "stream",
     "text": [
      "         3734 function calls (3702 primitive calls) in 318.993 seconds\n",
      "\n",
      "   Ordered by: standard name\n",
      "\n",
      "   ncalls  tottime  percall  cumtime  percall filename:lineno(function)\n",
      "        1    0.004    0.004  318.993  318.993 <string>:1(<module>)\n",
      "       32    0.000    0.000    0.000    0.000 _VF.py:25(__getattr__)\n",
      "       32    0.000    0.000    0.000    0.000 abc.py:117(__instancecheck__)\n",
      "       32    0.001    0.000    0.004    0.000 functional.py:4089(_pad)\n",
      "       64    0.004    0.000    0.008    0.000 losses.py:116(norm)\n",
      "        1  187.137  187.137  318.989  318.989 losses.py:126(forward)\n",
      "       32    1.354    0.042    1.816    0.057 losses.py:49(make_toeplitz)\n",
      "       32    0.001    0.000    0.012    0.000 losses.py:75(pad_edges_to_len)\n",
      "        1    0.001    0.001    0.001    0.001 losses.py:92(gaussian)\n",
      "        1    0.000    0.000    0.001    0.001 losses.py:98(penalty)\n",
      "     33/1    0.001    0.000  318.989  318.989 module.py:1045(_call_impl)\n",
      "      417    0.001    0.000    0.001    0.000 module.py:1133(__setattr__)\n",
      "       32    0.001    0.000    0.004    0.000 module.py:250(__init__)\n",
      "       32    0.000    0.000    0.004    0.000 padding.py:18(__init__)\n",
      "       32    0.000    0.000    0.005    0.000 padding.py:22(forward)\n",
      "       32    0.001    0.000    0.005    0.000 padding.py:74(__init__)\n",
      "       32    0.000    0.000    0.001    0.000 utils.py:8(parse)\n",
      "       32    0.000    0.000    0.000    0.000 {built-in method _abc._abc_instancecheck}\n",
      "       33    0.252    0.008    0.252    0.008 {built-in method abs}\n",
      "        1    0.001    0.001  318.993  318.993 {built-in method builtins.exec}\n",
      "       32    0.000    0.000    0.000    0.000 {built-in method builtins.getattr}\n",
      "      866    0.000    0.000    0.001    0.000 {built-in method builtins.isinstance}\n",
      "       64    0.000    0.000    0.000    0.000 {built-in method builtins.len}\n",
      "       32    0.003    0.000    0.003    0.000 {built-in method constant_pad_nd}\n",
      "       32    0.003    0.000    0.003    0.000 {built-in method diagonal}\n",
      "       32    0.038    0.001    0.038    0.001 {built-in method diag}\n",
      "        1    0.000    0.000    0.000    0.000 {built-in method exp}\n",
      "       32  129.588    4.050  129.588    4.050 {built-in method inverse}\n",
      "        1    0.001    0.001    0.001    0.001 {built-in method linspace}\n",
      "       32    0.000    0.000    0.000    0.000 {built-in method math.floor}\n",
      "        1    0.000    0.000    0.000    0.000 {built-in method max}\n",
      "       64    0.001    0.000    0.001    0.000 {built-in method sqrt}\n",
      "       64    0.003    0.000    0.003    0.000 {built-in method sum}\n",
      "       33    0.000    0.000    0.000    0.000 {built-in method torch._C._get_tracing_state}\n",
      "       32    0.000    0.000    0.000    0.000 {built-in method torch._C._has_torch_function_unary}\n",
      "       32    0.002    0.000    0.002    0.000 {built-in method torch._C._log_api_usage_once}\n",
      "       32    0.002    0.000    0.002    0.000 {built-in method zeros_like}\n",
      "       32    0.461    0.014    0.461    0.014 {built-in method zeros}\n",
      "       32    0.000    0.000    0.000    0.000 {method 'dim' of 'torch._C._TensorBase' objects}\n",
      "        1    0.000    0.000    0.000    0.000 {method 'disable' of '_lsprof.Profiler' objects}\n",
      "        2    0.000    0.000    0.000    0.000 {method 'flatten' of 'torch._C._TensorBase' objects}\n",
      "     1251    0.000    0.000    0.000    0.000 {method 'get' of 'dict' objects}\n",
      "       32    0.131    0.004    0.131    0.004 {method 'max' of 'torch._C._TensorBase' objects}\n",
      "       33    0.000    0.000    0.000    0.000 {method 'size' of 'torch._C._TensorBase' objects}\n",
      "       33    0.000    0.000    0.000    0.000 {method 'to' of 'torch._C._TensorBase' objects}\n",
      "       32    0.001    0.000    0.001    0.000 {method 'unsqueeze' of 'torch._C._TensorBase' objects}\n",
      "\n",
      "\n"
     ]
    }
   ],
   "source": [
    "loss = AWLoss1D(reduction=\"sum\")\n",
    "cProfile.run(\"loss(X, target)\")"
   ]
  },
  {
   "cell_type": "code",
   "execution_count": 7,
   "metadata": {},
   "outputs": [
    {
     "name": "stdout",
     "output_type": "stream",
     "text": [
      "         246 function calls (244 primitive calls) in 0.116 seconds\n",
      "\n",
      "   Ordered by: standard name\n",
      "\n",
      "   ncalls  tottime  percall  cumtime  percall filename:lineno(function)\n",
      "        1    0.000    0.000    0.116    0.116 <string>:1(<module>)\n",
      "        2    0.000    0.000    0.000    0.000 _VF.py:25(__getattr__)\n",
      "        2    0.000    0.000    0.000    0.000 abc.py:117(__instancecheck__)\n",
      "        2    0.000    0.000    0.008    0.004 functional.py:4089(_pad)\n",
      "        2    0.000    0.000    0.001    0.000 losses.py:116(norm)\n",
      "        1    0.002    0.002    0.104    0.104 losses.py:239(wienerfft)\n",
      "        1    0.001    0.001    0.116    0.116 losses.py:254(forward)\n",
      "        2    0.000    0.000    0.009    0.004 losses.py:75(pad_edges_to_len)\n",
      "        1    0.000    0.000    0.000    0.000 losses.py:92(gaussian)\n",
      "        1    0.000    0.000    0.001    0.001 losses.py:98(penalty)\n",
      "      3/1    0.000    0.000    0.116    0.116 module.py:1045(_call_impl)\n",
      "       28    0.000    0.000    0.000    0.000 module.py:1133(__setattr__)\n",
      "        2    0.000    0.000    0.000    0.000 module.py:250(__init__)\n",
      "        2    0.000    0.000    0.000    0.000 padding.py:18(__init__)\n",
      "        2    0.000    0.000    0.008    0.004 padding.py:22(forward)\n",
      "        2    0.000    0.000    0.000    0.000 padding.py:74(__init__)\n",
      "        2    0.000    0.000    0.000    0.000 utils.py:8(parse)\n",
      "        2    0.000    0.000    0.000    0.000 {built-in method _abc._abc_instancecheck}\n",
      "        2    0.001    0.000    0.001    0.000 {built-in method abs}\n",
      "        1    0.000    0.000    0.116    0.116 {built-in method builtins.exec}\n",
      "        2    0.000    0.000    0.000    0.000 {built-in method builtins.getattr}\n",
      "       58    0.000    0.000    0.000    0.000 {built-in method builtins.isinstance}\n",
      "        4    0.000    0.000    0.000    0.000 {built-in method builtins.len}\n",
      "        2    0.008    0.004    0.008    0.004 {built-in method constant_pad_nd}\n",
      "        1    0.000    0.000    0.000    0.000 {built-in method exp}\n",
      "        2    0.001    0.001    0.001    0.001 {built-in method flip}\n",
      "        1    0.000    0.000    0.000    0.000 {built-in method linspace}\n",
      "        2    0.000    0.000    0.000    0.000 {built-in method math.floor}\n",
      "        1    0.000    0.000    0.000    0.000 {built-in method max}\n",
      "        1    0.001    0.001    0.001    0.001 {built-in method roll}\n",
      "        2    0.000    0.000    0.000    0.000 {built-in method sqrt}\n",
      "        2    0.000    0.000    0.000    0.000 {built-in method sum}\n",
      "        4    0.084    0.021    0.084    0.021 {built-in method torch._C._fft.fft_fft}\n",
      "        1    0.016    0.016    0.016    0.016 {built-in method torch._C._fft.fft_irfft}\n",
      "        3    0.000    0.000    0.000    0.000 {built-in method torch._C._get_tracing_state}\n",
      "        2    0.000    0.000    0.000    0.000 {built-in method torch._C._has_torch_function_unary}\n",
      "        2    0.000    0.000    0.000    0.000 {built-in method torch._C._log_api_usage_once}\n",
      "        2    0.000    0.000    0.000    0.000 {method 'dim' of 'torch._C._TensorBase' objects}\n",
      "        1    0.000    0.000    0.000    0.000 {method 'disable' of '_lsprof.Profiler' objects}\n",
      "        1    0.000    0.000    0.000    0.000 {method 'expand_as' of 'torch._C._TensorBase' objects}\n",
      "        2    0.001    0.000    0.001    0.000 {method 'flatten' of 'torch._C._TensorBase' objects}\n",
      "       84    0.000    0.000    0.000    0.000 {method 'get' of 'dict' objects}\n",
      "        1    0.000    0.000    0.000    0.000 {method 'max' of 'torch._C._TensorBase' objects}\n",
      "        1    0.000    0.000    0.000    0.000 {method 'repeat' of 'torch._C._TensorBase' objects}\n",
      "        1    0.000    0.000    0.000    0.000 {method 'size' of 'torch._C._TensorBase' objects}\n",
      "        1    0.000    0.000    0.000    0.000 {method 'to' of 'torch._C._TensorBase' objects}\n",
      "        1    0.000    0.000    0.000    0.000 {method 'unsqueeze' of 'torch._C._TensorBase' objects}\n",
      "\n",
      "\n"
     ]
    }
   ],
   "source": [
    "loss = AWLoss1DFFT(reduction=\"sum\")\n",
    "cProfile.run(\"loss(X, target)\")"
   ]
  },
  {
   "cell_type": "code",
   "execution_count": 8,
   "metadata": {},
   "outputs": [
    {
     "name": "stdout",
     "output_type": "stream",
     "text": [
      "         21745 function calls (21649 primitive calls) in 330.221 seconds\n",
      "\n",
      "   Ordered by: standard name\n",
      "\n",
      "   ncalls  tottime  percall  cumtime  percall filename:lineno(function)\n",
      "        1    0.004    0.004  330.219  330.219 <string>:1(<module>)\n",
      "       97    0.000    0.000    0.000    0.000 _VF.py:25(__getattr__)\n",
      "        4    0.000    0.000    0.000    0.000 _tensor.py:585(__len__)\n",
      "       96    0.000    0.000    0.001    0.000 abc.py:117(__instancecheck__)\n",
      "        1    0.000    0.000    0.001    0.001 functional.py:307(meshgrid)\n",
      "        1    0.000    0.000    0.001    0.001 functional.py:338(_meshgrid)\n",
      "       96    0.002    0.000    0.011    0.000 functional.py:4089(_pad)\n",
      "        1    0.001    0.001    0.004    0.004 losses.py:103(penalty2d)\n",
      "      192    0.012    0.000    0.024    0.000 losses.py:116(norm)\n",
      "        1  221.945  221.945  330.215  330.215 losses.py:170(forward)\n",
      "     2592    0.608    0.000    0.629    0.000 losses.py:49(make_toeplitz)\n",
      "       96    1.437    0.015    2.369    0.025 losses.py:58(make_doubly_block)\n",
      "       96    0.002    0.000    0.028    0.000 losses.py:84(pad_edges_to_shape)\n",
      "        1    0.001    0.001    0.001    0.001 losses.py:95(gauss2d)\n",
      "     97/1    0.004    0.000  330.215  330.215 module.py:1045(_call_impl)\n",
      "     1249    0.003    0.000    0.004    0.000 module.py:1133(__setattr__)\n",
      "       96    0.002    0.000    0.007    0.000 module.py:250(__init__)\n",
      "       96    0.001    0.000    0.010    0.000 padding.py:124(__init__)\n",
      "       96    0.001    0.000    0.007    0.000 padding.py:18(__init__)\n",
      "       96    0.000    0.000    0.012    0.000 padding.py:22(forward)\n",
      "       96    0.001    0.000    0.002    0.000 utils.py:8(parse)\n",
      "       96    0.001    0.000    0.001    0.000 {built-in method _abc._abc_instancecheck}\n",
      "       97    0.141    0.001    0.141    0.001 {built-in method abs}\n",
      "        1    0.001    0.001  330.221  330.221 {built-in method builtins.exec}\n",
      "       97    0.000    0.000    0.000    0.000 {built-in method builtins.getattr}\n",
      "     2594    0.001    0.000    0.002    0.000 {built-in method builtins.isinstance}\n",
      "      197    0.000    0.000    0.000    0.000 {built-in method builtins.len}\n",
      "       96    0.009    0.000    0.009    0.000 {built-in method constant_pad_nd}\n",
      "       96    0.003    0.000    0.003    0.000 {built-in method diagonal}\n",
      "       96    0.042    0.000    0.042    0.000 {built-in method diag}\n",
      "        1    0.000    0.000    0.000    0.000 {built-in method exp}\n",
      "       96  105.485    1.099  105.485    1.099 {built-in method inverse}\n",
      "        2    0.001    0.000    0.001    0.000 {built-in method linspace}\n",
      "      192    0.000    0.000    0.000    0.000 {built-in method math.floor}\n",
      "        1    0.000    0.000    0.000    0.000 {built-in method max}\n",
      "        1    0.001    0.001    0.001    0.001 {built-in method meshgrid}\n",
      "      192    0.005    0.000    0.005    0.000 {built-in method sqrt}\n",
      "      192    0.007    0.000    0.007    0.000 {built-in method sum}\n",
      "      101    0.000    0.000    0.000    0.000 {built-in method torch._C._get_tracing_state}\n",
      "      100    0.000    0.000    0.000    0.000 {built-in method torch._C._has_torch_function_unary}\n",
      "        1    0.000    0.000    0.000    0.000 {built-in method torch._C._has_torch_function}\n",
      "       96    0.001    0.000    0.001    0.000 {built-in method torch._C._log_api_usage_once}\n",
      "       96    0.003    0.000    0.003    0.000 {built-in method zeros_like}\n",
      "     2688    0.320    0.000    0.320    0.000 {built-in method zeros}\n",
      "      100    0.000    0.000    0.000    0.000 {method 'dim' of 'torch._C._TensorBase' objects}\n",
      "        1    0.000    0.000    0.000    0.000 {method 'disable' of '_lsprof.Profiler' objects}\n",
      "      192    0.005    0.000    0.005    0.000 {method 'flatten' of 'torch._C._TensorBase' objects}\n",
      "     3747    0.000    0.000    0.000    0.000 {method 'get' of 'dict' objects}\n",
      "       96    0.164    0.002    0.164    0.002 {method 'max' of 'torch._C._TensorBase' objects}\n",
      "     2594    0.001    0.000    0.001    0.000 {method 'size' of 'torch._C._TensorBase' objects}\n",
      "     2593    0.003    0.000    0.003    0.000 {method 'to' of 'torch._C._TensorBase' objects}\n",
      "      192    0.001    0.000    0.001    0.000 {method 'unsqueeze' of 'torch._C._TensorBase' objects}\n",
      "\n",
      "\n"
     ]
    }
   ],
   "source": [
    "loss = AWLoss2D(reduction=\"sum\")\n",
    "cProfile.run(\"loss(X, target)\")"
   ]
  },
  {
   "cell_type": "code",
   "execution_count": 9,
   "metadata": {},
   "outputs": [
    {
     "name": "stdout",
     "output_type": "stream",
     "text": [
      "         278 function calls (276 primitive calls) in 0.044 seconds\n",
      "\n",
      "   Ordered by: standard name\n",
      "\n",
      "   ncalls  tottime  percall  cumtime  percall filename:lineno(function)\n",
      "        1    0.000    0.000    0.043    0.043 <string>:1(<module>)\n",
      "        3    0.000    0.000    0.000    0.000 _VF.py:25(__getattr__)\n",
      "        4    0.000    0.000    0.000    0.000 _tensor.py:585(__len__)\n",
      "        2    0.000    0.000    0.000    0.000 abc.py:117(__instancecheck__)\n",
      "        1    0.000    0.000    0.000    0.000 functional.py:307(meshgrid)\n",
      "        1    0.000    0.000    0.000    0.000 functional.py:338(_meshgrid)\n",
      "        2    0.000    0.000    0.002    0.001 functional.py:4089(_pad)\n",
      "        1    0.000    0.000    0.001    0.001 losses.py:103(penalty2d)\n",
      "        2    0.000    0.000    0.000    0.000 losses.py:116(norm)\n",
      "        1    0.002    0.002    0.039    0.039 losses.py:302(wienerfft2D)\n",
      "        1    0.001    0.001    0.043    0.043 losses.py:316(forward)\n",
      "        2    0.000    0.000    0.003    0.001 losses.py:84(pad_edges_to_shape)\n",
      "        1    0.000    0.000    0.000    0.000 losses.py:95(gauss2d)\n",
      "      3/1    0.000    0.000    0.043    0.043 module.py:1045(_call_impl)\n",
      "       28    0.000    0.000    0.000    0.000 module.py:1133(__setattr__)\n",
      "        2    0.000    0.000    0.000    0.000 module.py:250(__init__)\n",
      "        2    0.000    0.000    0.000    0.000 padding.py:124(__init__)\n",
      "        2    0.000    0.000    0.000    0.000 padding.py:18(__init__)\n",
      "        2    0.000    0.000    0.002    0.001 padding.py:22(forward)\n",
      "        2    0.000    0.000    0.000    0.000 utils.py:8(parse)\n",
      "        2    0.000    0.000    0.000    0.000 {built-in method _abc._abc_instancecheck}\n",
      "        2    0.001    0.000    0.001    0.000 {built-in method abs}\n",
      "        1    0.000    0.000    0.044    0.044 {built-in method builtins.exec}\n",
      "        3    0.000    0.000    0.000    0.000 {built-in method builtins.getattr}\n",
      "       58    0.000    0.000    0.000    0.000 {built-in method builtins.isinstance}\n",
      "        9    0.000    0.000    0.000    0.000 {built-in method builtins.len}\n",
      "        2    0.002    0.001    0.002    0.001 {built-in method constant_pad_nd}\n",
      "        1    0.000    0.000    0.000    0.000 {built-in method exp}\n",
      "        2    0.003    0.001    0.003    0.001 {built-in method flip}\n",
      "        2    0.000    0.000    0.000    0.000 {built-in method linspace}\n",
      "        4    0.000    0.000    0.000    0.000 {built-in method math.floor}\n",
      "        1    0.000    0.000    0.000    0.000 {built-in method max}\n",
      "        1    0.000    0.000    0.000    0.000 {built-in method meshgrid}\n",
      "        1    0.001    0.001    0.001    0.001 {built-in method roll}\n",
      "        2    0.000    0.000    0.000    0.000 {built-in method sqrt}\n",
      "        2    0.000    0.000    0.000    0.000 {built-in method sum}\n",
      "        4    0.029    0.007    0.029    0.007 {built-in method torch._C._fft.fft_fftn}\n",
      "        1    0.003    0.003    0.003    0.003 {built-in method torch._C._fft.fft_irfftn}\n",
      "        7    0.000    0.000    0.000    0.000 {built-in method torch._C._get_tracing_state}\n",
      "        6    0.000    0.000    0.000    0.000 {built-in method torch._C._has_torch_function_unary}\n",
      "        1    0.000    0.000    0.000    0.000 {built-in method torch._C._has_torch_function}\n",
      "        2    0.000    0.000    0.000    0.000 {built-in method torch._C._log_api_usage_once}\n",
      "        6    0.000    0.000    0.000    0.000 {method 'dim' of 'torch._C._TensorBase' objects}\n",
      "        1    0.000    0.000    0.000    0.000 {method 'disable' of '_lsprof.Profiler' objects}\n",
      "        1    0.000    0.000    0.000    0.000 {method 'expand_as' of 'torch._C._TensorBase' objects}\n",
      "       84    0.000    0.000    0.000    0.000 {method 'get' of 'dict' objects}\n",
      "        1    0.000    0.000    0.000    0.000 {method 'max' of 'torch._C._TensorBase' objects}\n",
      "        1    0.000    0.000    0.000    0.000 {method 'repeat' of 'torch._C._TensorBase' objects}\n",
      "        4    0.000    0.000    0.000    0.000 {method 'size' of 'torch._C._TensorBase' objects}\n",
      "        1    0.000    0.000    0.000    0.000 {method 'to' of 'torch._C._TensorBase' objects}\n",
      "        2    0.000    0.000    0.000    0.000 {method 'unsqueeze' of 'torch._C._TensorBase' objects}\n",
      "\n",
      "\n"
     ]
    }
   ],
   "source": [
    "loss = AWLoss2DFFT(reduction=\"sum\")\n",
    "cProfile.run(\"loss(X, target)\")"
   ]
  },
  {
   "cell_type": "code",
   "execution_count": null,
   "metadata": {},
   "outputs": [],
   "source": []
  }
 ],
 "metadata": {
  "interpreter": {
   "hash": "72ee67a8efce80431d3fff32d20b03de61bb424cfcb92e6c3483ba1784c59fe6"
  },
  "kernelspec": {
   "display_name": "Python 3.7.6 64-bit ('base': conda)",
   "name": "python3"
  },
  "language_info": {
   "codemirror_mode": {
    "name": "ipython",
    "version": 3
   },
   "file_extension": ".py",
   "mimetype": "text/x-python",
   "name": "python",
   "nbconvert_exporter": "python",
   "pygments_lexer": "ipython3",
   "version": "3.9.7"
  },
  "orig_nbformat": 4
 },
 "nbformat": 4,
 "nbformat_minor": 2
}
